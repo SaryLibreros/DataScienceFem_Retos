{
  "nbformat": 4,
  "nbformat_minor": 0,
  "metadata": {
    "colab": {
      "name": "Copia de Fundamentos Estadística.ipynb",
      "provenance": [],
      "toc_visible": true,
      "include_colab_link": true
    },
    "kernelspec": {
      "name": "python3",
      "display_name": "Python 3"
    },
    "language_info": {
      "name": "python"
    }
  },
  "cells": [
    {
      "cell_type": "markdown",
      "metadata": {
        "id": "view-in-github",
        "colab_type": "text"
      },
      "source": [
        "<a href=\"https://colab.research.google.com/github/SaryLibreros/DataScienceFem_Retos/blob/main/Copia_de_Fundamentos_Estad%C3%ADstica.ipynb\" target=\"_parent\"><img src=\"https://colab.research.google.com/assets/colab-badge.svg\" alt=\"Open In Colab\"/></a>"
      ]
    },
    {
      "cell_type": "markdown",
      "metadata": {
        "id": "HY8fYG-Psm4r"
      },
      "source": [
        "# **Fundamentos de estadística**\n",
        "En este taller vamos a explicar los siguientes conceptos básicos de estadística, para que puedas interpretar mejor tus datos.\n",
        "\n",
        "*   Tipos de datos\n",
        "*   Medidas de tendencia central\n",
        "*   Medidas de disperción\n",
        "*   Medidas de posición\n",
        "\n",
        "Vamos a usar el famoso dataset del [titanic](https://www.kaggle.com/c/titanic/data) para poner en práctica nuestros conocimientos\n"
      ]
    },
    {
      "cell_type": "markdown",
      "metadata": {
        "id": "eE-QUSzJts-4"
      },
      "source": [
        "Los campos o columnas que contiene el dataset son las siguientes:\n",
        "- PassengerId -- un id numérico asignado a cada pasajero.\n",
        "- Survived -- si el pasajero sobrevivió (1), si no sobrevivió (0).\n",
        "- Pclass -- La clase en la que estaba el pasajero.\n",
        "- Name -- el nombre del pasajero.\n",
        "- Sex -- género del pasajero.\n",
        "- Age -- edad del pasajero.\n",
        "- SibSp -- número de hermanos y conyuges que el pasajero tenía a bordo.\n",
        "- Parch -- número de padres e hijos que el pasajero tenía a bordo.\n",
        "- Ticket -- número del tiquete del pasajero.\n",
        "- Fare -- precio del tiquete.\n",
        "- Cabin -- en qué cabina estaba ubicado el pasajero.\n",
        "- Embarked -- lugar de embarque del pasajero."
      ]
    },
    {
      "cell_type": "code",
      "metadata": {
        "id": "RLuzsFYyvha_"
      },
      "source": [
        "# Importando librerias\n",
        "import numpy as np\n",
        "import pandas as pd\n",
        "import seaborn as sns\n",
        "import matplotlib.pyplot as plt\n",
        "import warnings\n",
        "from scipy import stats\n",
        "warnings.filterwarnings(\"ignore\")\n",
        "%matplotlib inline"
      ],
      "execution_count": 1,
      "outputs": []
    },
    {
      "cell_type": "code",
      "metadata": {
        "id": "vs7F2lo-_H1m"
      },
      "source": [
        "# Cargamos el archivo\n",
        "titanic = pd.read_csv(\"train.csv\")"
      ],
      "execution_count": 2,
      "outputs": []
    },
    {
      "cell_type": "markdown",
      "metadata": {
        "id": "P62N8Ore8ix1"
      },
      "source": [
        "# Exploremos nuestro dataset"
      ]
    },
    {
      "cell_type": "code",
      "metadata": {
        "colab": {
          "base_uri": "https://localhost:8080/",
          "height": 238
        },
        "id": "K8I83gcHziQQ",
        "outputId": "eb7f512c-6e07-4d6e-aa7e-5957c48dacaf"
      },
      "source": [
        "# Visualizamos 5 filas del titanic\n",
        "titanic.sample(5)"
      ],
      "execution_count": 3,
      "outputs": [
        {
          "output_type": "execute_result",
          "data": {
            "text/html": [
              "<div>\n",
              "<style scoped>\n",
              "    .dataframe tbody tr th:only-of-type {\n",
              "        vertical-align: middle;\n",
              "    }\n",
              "\n",
              "    .dataframe tbody tr th {\n",
              "        vertical-align: top;\n",
              "    }\n",
              "\n",
              "    .dataframe thead th {\n",
              "        text-align: right;\n",
              "    }\n",
              "</style>\n",
              "<table border=\"1\" class=\"dataframe\">\n",
              "  <thead>\n",
              "    <tr style=\"text-align: right;\">\n",
              "      <th></th>\n",
              "      <th>PassengerId</th>\n",
              "      <th>Survived</th>\n",
              "      <th>Pclass</th>\n",
              "      <th>Name</th>\n",
              "      <th>Sex</th>\n",
              "      <th>Age</th>\n",
              "      <th>SibSp</th>\n",
              "      <th>Parch</th>\n",
              "      <th>Ticket</th>\n",
              "      <th>Fare</th>\n",
              "      <th>Cabin</th>\n",
              "      <th>Embarked</th>\n",
              "    </tr>\n",
              "  </thead>\n",
              "  <tbody>\n",
              "    <tr>\n",
              "      <th>372</th>\n",
              "      <td>373</td>\n",
              "      <td>0</td>\n",
              "      <td>3</td>\n",
              "      <td>Beavan, Mr. William Thomas</td>\n",
              "      <td>male</td>\n",
              "      <td>19.0</td>\n",
              "      <td>0</td>\n",
              "      <td>0</td>\n",
              "      <td>323951</td>\n",
              "      <td>8.0500</td>\n",
              "      <td>NaN</td>\n",
              "      <td>S</td>\n",
              "    </tr>\n",
              "    <tr>\n",
              "      <th>576</th>\n",
              "      <td>577</td>\n",
              "      <td>1</td>\n",
              "      <td>2</td>\n",
              "      <td>Garside, Miss. Ethel</td>\n",
              "      <td>female</td>\n",
              "      <td>34.0</td>\n",
              "      <td>0</td>\n",
              "      <td>0</td>\n",
              "      <td>243880</td>\n",
              "      <td>13.0000</td>\n",
              "      <td>NaN</td>\n",
              "      <td>S</td>\n",
              "    </tr>\n",
              "    <tr>\n",
              "      <th>500</th>\n",
              "      <td>501</td>\n",
              "      <td>0</td>\n",
              "      <td>3</td>\n",
              "      <td>Calic, Mr. Petar</td>\n",
              "      <td>male</td>\n",
              "      <td>17.0</td>\n",
              "      <td>0</td>\n",
              "      <td>0</td>\n",
              "      <td>315086</td>\n",
              "      <td>8.6625</td>\n",
              "      <td>NaN</td>\n",
              "      <td>S</td>\n",
              "    </tr>\n",
              "    <tr>\n",
              "      <th>482</th>\n",
              "      <td>483</td>\n",
              "      <td>0</td>\n",
              "      <td>3</td>\n",
              "      <td>Rouse, Mr. Richard Henry</td>\n",
              "      <td>male</td>\n",
              "      <td>50.0</td>\n",
              "      <td>0</td>\n",
              "      <td>0</td>\n",
              "      <td>A/5 3594</td>\n",
              "      <td>8.0500</td>\n",
              "      <td>NaN</td>\n",
              "      <td>S</td>\n",
              "    </tr>\n",
              "    <tr>\n",
              "      <th>186</th>\n",
              "      <td>187</td>\n",
              "      <td>1</td>\n",
              "      <td>3</td>\n",
              "      <td>O'Brien, Mrs. Thomas (Johanna \"Hannah\" Godfrey)</td>\n",
              "      <td>female</td>\n",
              "      <td>NaN</td>\n",
              "      <td>1</td>\n",
              "      <td>0</td>\n",
              "      <td>370365</td>\n",
              "      <td>15.5000</td>\n",
              "      <td>NaN</td>\n",
              "      <td>Q</td>\n",
              "    </tr>\n",
              "  </tbody>\n",
              "</table>\n",
              "</div>"
            ],
            "text/plain": [
              "     PassengerId  Survived  Pclass  ...     Fare Cabin  Embarked\n",
              "372          373         0       3  ...   8.0500   NaN         S\n",
              "576          577         1       2  ...  13.0000   NaN         S\n",
              "500          501         0       3  ...   8.6625   NaN         S\n",
              "482          483         0       3  ...   8.0500   NaN         S\n",
              "186          187         1       3  ...  15.5000   NaN         Q\n",
              "\n",
              "[5 rows x 12 columns]"
            ]
          },
          "metadata": {
            "tags": []
          },
          "execution_count": 3
        }
      ]
    },
    {
      "cell_type": "markdown",
      "metadata": {
        "id": "32hmNKMuDmMv"
      },
      "source": [
        "Conclusiones\n",
        "* Tiquete tiene una mezcla de datos numéricos y  alfanumericos.\n",
        "* Cabina es alfanumerico"
      ]
    },
    {
      "cell_type": "code",
      "metadata": {
        "id": "O0qW25ByZaLl"
      },
      "source": [
        "# Vamos a renombrar las columnas, para traducirlas a español\n",
        "esp_colum ={'PassengerId':'IdPasajero','Survived':'Sobrevivio','Pclass':'Clase',\\\n",
        "           'Name':'Nombre','Sex':'Genero','Age':'Edad','SibSp':'HermEsp','Parch':'PadresHijos',\\\n",
        "           'Ticket':'Tiquete','Fare':'Precio','Cabin':'Cabina','Embarked':'Embarque'}\n",
        "titanic.rename(columns=esp_colum,inplace=True)"
      ],
      "execution_count": 4,
      "outputs": []
    },
    {
      "cell_type": "markdown",
      "metadata": {
        "id": "ClsZ0f0n_cmS"
      },
      "source": [
        "### Conozcamos los campos del dataset\n",
        "\n",
        "*   ¿Cuántos registros tiene el dataset?\n",
        "    *El dataset tiene 891 entradas o registros*\n",
        "*   ¿Qué columnas tienen registros vacíos?\n",
        "    *Edad,Cabina y Embarque tienen registros vacíos*\n",
        "*   ¿Qué tipos de datos que tiene nuestro dataset?\n",
        "    *Cinco campos son enteros, 2 tienen decimales (float). Cinco campos son strings (object)*\n",
        "\n"
      ]
    },
    {
      "cell_type": "code",
      "metadata": {
        "id": "mgKPw8Cu1aRw",
        "colab": {
          "base_uri": "https://localhost:8080/"
        },
        "outputId": "4e22af2d-500c-40c7-8d78-5577296443ed"
      },
      "source": [
        "# Tipos de datos que tiene nuestro dataset y que cantidad de nulos tiene (non-null -->no nulo)\n",
        "titanic.info()"
      ],
      "execution_count": 5,
      "outputs": [
        {
          "output_type": "stream",
          "text": [
            "<class 'pandas.core.frame.DataFrame'>\n",
            "RangeIndex: 891 entries, 0 to 890\n",
            "Data columns (total 12 columns):\n",
            " #   Column       Non-Null Count  Dtype  \n",
            "---  ------       --------------  -----  \n",
            " 0   IdPasajero   891 non-null    int64  \n",
            " 1   Sobrevivio   891 non-null    int64  \n",
            " 2   Clase        891 non-null    int64  \n",
            " 3   Nombre       891 non-null    object \n",
            " 4   Genero       891 non-null    object \n",
            " 5   Edad         714 non-null    float64\n",
            " 6   HermEsp      891 non-null    int64  \n",
            " 7   PadresHijos  891 non-null    int64  \n",
            " 8   Tiquete      891 non-null    object \n",
            " 9   Precio       891 non-null    float64\n",
            " 10  Cabina       204 non-null    object \n",
            " 11  Embarque     889 non-null    object \n",
            "dtypes: float64(2), int64(5), object(5)\n",
            "memory usage: 83.7+ KB\n"
          ],
          "name": "stdout"
        }
      ]
    },
    {
      "cell_type": "markdown",
      "metadata": {
        "id": "sk0svzyt12AS"
      },
      "source": [
        "## **¿Qué tipos de datos son nuestras columnas?**\n",
        "\n",
        "### **Categóricos**\n",
        "\n",
        "**Nominales:**\n",
        "* IdPasajero\n",
        "* Sobrevivio\n",
        "* Nombre\n",
        "* Genero\n",
        "* Tiquete\n",
        "* Cabina\n",
        "* Embarque\n",
        "\n",
        "**Ordinales**\n",
        "* Clase\n",
        "\n",
        "### **Numéricos**\n",
        "\n",
        "**Continuos:**\n",
        "  * Edad**\n",
        "  * Precio\n",
        "  \n",
        "**Discretos:**\n",
        "  * HermEsp\n",
        "  * PadresHijos\n",
        "\n"
      ]
    },
    {
      "cell_type": "markdown",
      "metadata": {
        "id": "klrWPl31FHqV"
      },
      "source": [
        "### Conozcamos los niveles de las variables categóricas"
      ]
    },
    {
      "cell_type": "code",
      "metadata": {
        "id": "3JFn5TC_3KT7",
        "colab": {
          "base_uri": "https://localhost:8080/"
        },
        "outputId": "2575fb1f-45f5-493a-ee3b-02d3cc3cfe6d"
      },
      "source": [
        "# Cuantos registros tenemos por categoria de la columna 'Sobrevivio' sin nulos\n",
        "titanic['Sobrevivio'].value_counts()"
      ],
      "execution_count": 6,
      "outputs": [
        {
          "output_type": "execute_result",
          "data": {
            "text/plain": [
              "0    549\n",
              "1    342\n",
              "Name: Sobrevivio, dtype: int64"
            ]
          },
          "metadata": {
            "tags": []
          },
          "execution_count": 6
        }
      ]
    },
    {
      "cell_type": "code",
      "metadata": {
        "id": "bxj1NYgGc04f",
        "colab": {
          "base_uri": "https://localhost:8080/"
        },
        "outputId": "fe852b54-4b24-4d8f-a388-7e150fa68f56"
      },
      "source": [
        "# Cuantos registros tenemos por categoria de la columna 'Clase' sin nulos\n",
        "titanic['Clase'].value_counts()"
      ],
      "execution_count": 7,
      "outputs": [
        {
          "output_type": "execute_result",
          "data": {
            "text/plain": [
              "3    491\n",
              "1    216\n",
              "2    184\n",
              "Name: Clase, dtype: int64"
            ]
          },
          "metadata": {
            "tags": []
          },
          "execution_count": 7
        }
      ]
    },
    {
      "cell_type": "code",
      "metadata": {
        "id": "5FBqUYUP3jn0",
        "colab": {
          "base_uri": "https://localhost:8080/"
        },
        "outputId": "126a1aed-33b9-4fcd-92b4-a4d267a5cbec"
      },
      "source": [
        "# Cuantos registros tenemos por categoria de la columna 'Genero' sin nulos\n",
        "titanic['Genero'].value_counts()"
      ],
      "execution_count": 8,
      "outputs": [
        {
          "output_type": "execute_result",
          "data": {
            "text/plain": [
              "male      577\n",
              "female    314\n",
              "Name: Genero, dtype: int64"
            ]
          },
          "metadata": {
            "tags": []
          },
          "execution_count": 8
        }
      ]
    },
    {
      "cell_type": "code",
      "metadata": {
        "id": "6eGGEc7Y5JqF",
        "colab": {
          "base_uri": "https://localhost:8080/"
        },
        "outputId": "64f10e84-cc1a-4039-c0cc-9a82649a9465"
      },
      "source": [
        "# Cuantos registros tenemos por categoria de la columna 'Cabina' sin nulos\n",
        "titanic['Cabina'].unique()"
      ],
      "execution_count": 13,
      "outputs": [
        {
          "output_type": "execute_result",
          "data": {
            "text/plain": [
              "array([nan, 'C85', 'C123', 'E46', 'G6', 'C103', 'D56', 'A6',\n",
              "       'C23 C25 C27', 'B78', 'D33', 'B30', 'C52', 'B28', 'C83', 'F33',\n",
              "       'F G73', 'E31', 'A5', 'D10 D12', 'D26', 'C110', 'B58 B60', 'E101',\n",
              "       'F E69', 'D47', 'B86', 'F2', 'C2', 'E33', 'B19', 'A7', 'C49', 'F4',\n",
              "       'A32', 'B4', 'B80', 'A31', 'D36', 'D15', 'C93', 'C78', 'D35',\n",
              "       'C87', 'B77', 'E67', 'B94', 'C125', 'C99', 'C118', 'D7', 'A19',\n",
              "       'B49', 'D', 'C22 C26', 'C106', 'C65', 'E36', 'C54',\n",
              "       'B57 B59 B63 B66', 'C7', 'E34', 'C32', 'B18', 'C124', 'C91', 'E40',\n",
              "       'T', 'C128', 'D37', 'B35', 'E50', 'C82', 'B96 B98', 'E10', 'E44',\n",
              "       'A34', 'C104', 'C111', 'C92', 'E38', 'D21', 'E12', 'E63', 'A14',\n",
              "       'B37', 'C30', 'D20', 'B79', 'E25', 'D46', 'B73', 'C95', 'B38',\n",
              "       'B39', 'B22', 'C86', 'C70', 'A16', 'C101', 'C68', 'A10', 'E68',\n",
              "       'B41', 'A20', 'D19', 'D50', 'D9', 'A23', 'B50', 'A26', 'D48',\n",
              "       'E58', 'C126', 'B71', 'B51 B53 B55', 'D49', 'B5', 'B20', 'F G63',\n",
              "       'C62 C64', 'E24', 'C90', 'C45', 'E8', 'B101', 'D45', 'C46', 'D30',\n",
              "       'E121', 'D11', 'E77', 'F38', 'B3', 'D6', 'B82 B84', 'D17', 'A36',\n",
              "       'B102', 'B69', 'E49', 'C47', 'D28', 'E17', 'A24', 'C50', 'B42',\n",
              "       'C148'], dtype=object)"
            ]
          },
          "metadata": {
            "tags": []
          },
          "execution_count": 13
        }
      ]
    },
    {
      "cell_type": "code",
      "metadata": {
        "id": "7hoyznPP26S_",
        "colab": {
          "base_uri": "https://localhost:8080/"
        },
        "outputId": "c2ef6aff-97bc-44be-cac1-8fe898360121"
      },
      "source": [
        "# Cuantos registros tenemos por categoria de la columna 'Embarque' sin nulos\n",
        "titanic['Embarque'].value_counts()"
      ],
      "execution_count": 14,
      "outputs": [
        {
          "output_type": "execute_result",
          "data": {
            "text/plain": [
              "S    644\n",
              "C    168\n",
              "Q     77\n",
              "Name: Embarque, dtype: int64"
            ]
          },
          "metadata": {
            "tags": []
          },
          "execution_count": 14
        }
      ]
    },
    {
      "cell_type": "code",
      "metadata": {
        "id": "n42B2qDSIT2V",
        "colab": {
          "base_uri": "https://localhost:8080/",
          "height": 173
        },
        "outputId": "872bf97a-6ab5-404a-bb2f-e047b21b4471"
      },
      "source": [
        "titanic.describe(include=['O'])"
      ],
      "execution_count": 15,
      "outputs": [
        {
          "output_type": "execute_result",
          "data": {
            "text/html": [
              "<div>\n",
              "<style scoped>\n",
              "    .dataframe tbody tr th:only-of-type {\n",
              "        vertical-align: middle;\n",
              "    }\n",
              "\n",
              "    .dataframe tbody tr th {\n",
              "        vertical-align: top;\n",
              "    }\n",
              "\n",
              "    .dataframe thead th {\n",
              "        text-align: right;\n",
              "    }\n",
              "</style>\n",
              "<table border=\"1\" class=\"dataframe\">\n",
              "  <thead>\n",
              "    <tr style=\"text-align: right;\">\n",
              "      <th></th>\n",
              "      <th>Nombre</th>\n",
              "      <th>Genero</th>\n",
              "      <th>Tiquete</th>\n",
              "      <th>Cabina</th>\n",
              "      <th>Embarque</th>\n",
              "    </tr>\n",
              "  </thead>\n",
              "  <tbody>\n",
              "    <tr>\n",
              "      <th>count</th>\n",
              "      <td>891</td>\n",
              "      <td>891</td>\n",
              "      <td>891</td>\n",
              "      <td>204</td>\n",
              "      <td>889</td>\n",
              "    </tr>\n",
              "    <tr>\n",
              "      <th>unique</th>\n",
              "      <td>891</td>\n",
              "      <td>2</td>\n",
              "      <td>681</td>\n",
              "      <td>147</td>\n",
              "      <td>3</td>\n",
              "    </tr>\n",
              "    <tr>\n",
              "      <th>top</th>\n",
              "      <td>Sage, Miss. Stella Anna</td>\n",
              "      <td>male</td>\n",
              "      <td>CA. 2343</td>\n",
              "      <td>C23 C25 C27</td>\n",
              "      <td>S</td>\n",
              "    </tr>\n",
              "    <tr>\n",
              "      <th>freq</th>\n",
              "      <td>1</td>\n",
              "      <td>577</td>\n",
              "      <td>7</td>\n",
              "      <td>4</td>\n",
              "      <td>644</td>\n",
              "    </tr>\n",
              "  </tbody>\n",
              "</table>\n",
              "</div>"
            ],
            "text/plain": [
              "                         Nombre Genero   Tiquete       Cabina Embarque\n",
              "count                       891    891       891          204      889\n",
              "unique                      891      2       681          147        3\n",
              "top     Sage, Miss. Stella Anna   male  CA. 2343  C23 C25 C27        S\n",
              "freq                          1    577         7            4      644"
            ]
          },
          "metadata": {
            "tags": []
          },
          "execution_count": 15
        }
      ]
    },
    {
      "cell_type": "markdown",
      "metadata": {
        "id": "bAnIao1kGJeS"
      },
      "source": [
        "### Conozcamos los posibles valores de las variables numéricos, para identificar si hay valores extraños"
      ]
    },
    {
      "cell_type": "code",
      "metadata": {
        "id": "sI6w-lvcqNGu",
        "colab": {
          "base_uri": "https://localhost:8080/"
        },
        "outputId": "bc0ba4dd-a62d-4c59-d9c6-ccf2c8275633"
      },
      "source": [
        "# Cuantos registros tenemos por valor de la columna 'Edad' sin nulos\n",
        "titanic['Edad'].value_counts().sort_values().to_dict()"
      ],
      "execution_count": 16,
      "outputs": [
        {
          "output_type": "execute_result",
          "data": {
            "text/plain": [
              "{0.42: 1,\n",
              " 0.67: 1,\n",
              " 0.75: 2,\n",
              " 0.83: 2,\n",
              " 0.92: 1,\n",
              " 1.0: 7,\n",
              " 2.0: 10,\n",
              " 3.0: 6,\n",
              " 4.0: 10,\n",
              " 5.0: 4,\n",
              " 6.0: 3,\n",
              " 7.0: 3,\n",
              " 8.0: 4,\n",
              " 9.0: 8,\n",
              " 10.0: 2,\n",
              " 11.0: 4,\n",
              " 12.0: 1,\n",
              " 13.0: 2,\n",
              " 14.0: 6,\n",
              " 14.5: 1,\n",
              " 15.0: 5,\n",
              " 16.0: 17,\n",
              " 17.0: 13,\n",
              " 18.0: 26,\n",
              " 19.0: 25,\n",
              " 20.0: 15,\n",
              " 20.5: 1,\n",
              " 21.0: 24,\n",
              " 22.0: 27,\n",
              " 23.0: 15,\n",
              " 23.5: 1,\n",
              " 24.0: 30,\n",
              " 24.5: 1,\n",
              " 25.0: 23,\n",
              " 26.0: 18,\n",
              " 27.0: 18,\n",
              " 28.0: 25,\n",
              " 28.5: 2,\n",
              " 29.0: 20,\n",
              " 30.0: 25,\n",
              " 30.5: 2,\n",
              " 31.0: 17,\n",
              " 32.0: 18,\n",
              " 32.5: 2,\n",
              " 33.0: 15,\n",
              " 34.0: 15,\n",
              " 34.5: 1,\n",
              " 35.0: 18,\n",
              " 36.0: 22,\n",
              " 36.5: 1,\n",
              " 37.0: 6,\n",
              " 38.0: 11,\n",
              " 39.0: 14,\n",
              " 40.0: 13,\n",
              " 40.5: 2,\n",
              " 41.0: 6,\n",
              " 42.0: 13,\n",
              " 43.0: 5,\n",
              " 44.0: 9,\n",
              " 45.0: 12,\n",
              " 45.5: 2,\n",
              " 46.0: 3,\n",
              " 47.0: 9,\n",
              " 48.0: 9,\n",
              " 49.0: 6,\n",
              " 50.0: 10,\n",
              " 51.0: 7,\n",
              " 52.0: 6,\n",
              " 53.0: 1,\n",
              " 54.0: 8,\n",
              " 55.0: 2,\n",
              " 55.5: 1,\n",
              " 56.0: 4,\n",
              " 57.0: 2,\n",
              " 58.0: 5,\n",
              " 59.0: 2,\n",
              " 60.0: 4,\n",
              " 61.0: 3,\n",
              " 62.0: 4,\n",
              " 63.0: 2,\n",
              " 64.0: 2,\n",
              " 65.0: 3,\n",
              " 66.0: 1,\n",
              " 70.0: 2,\n",
              " 70.5: 1,\n",
              " 71.0: 2,\n",
              " 74.0: 1,\n",
              " 80.0: 1}"
            ]
          },
          "metadata": {
            "tags": []
          },
          "execution_count": 16
        }
      ]
    },
    {
      "cell_type": "code",
      "metadata": {
        "id": "UIJjl9Fo4RJV",
        "colab": {
          "base_uri": "https://localhost:8080/"
        },
        "outputId": "0719ee0a-1cab-42ff-ac5d-ea4b239473f2"
      },
      "source": [
        "# Cuantos registros tenemos por valor de la columna 'HermEsp' sin nulos\n",
        "titanic['HermEsp'].value_counts()"
      ],
      "execution_count": 17,
      "outputs": [
        {
          "output_type": "execute_result",
          "data": {
            "text/plain": [
              "0    608\n",
              "1    209\n",
              "2     28\n",
              "4     18\n",
              "3     16\n",
              "8      7\n",
              "5      5\n",
              "Name: HermEsp, dtype: int64"
            ]
          },
          "metadata": {
            "tags": []
          },
          "execution_count": 17
        }
      ]
    },
    {
      "cell_type": "code",
      "metadata": {
        "id": "7qcyJi1d4lUe",
        "colab": {
          "base_uri": "https://localhost:8080/"
        },
        "outputId": "b01d5aec-257f-4b7b-b3c9-abaaf4aa38f5"
      },
      "source": [
        "# Cuantos registros tenemos por valor de la columna 'PadresHijos' sin nulos\n",
        "titanic['PadresHijos'].value_counts()"
      ],
      "execution_count": 18,
      "outputs": [
        {
          "output_type": "execute_result",
          "data": {
            "text/plain": [
              "0    678\n",
              "1    118\n",
              "2     80\n",
              "5      5\n",
              "3      5\n",
              "4      4\n",
              "6      1\n",
              "Name: PadresHijos, dtype: int64"
            ]
          },
          "metadata": {
            "tags": []
          },
          "execution_count": 18
        }
      ]
    },
    {
      "cell_type": "code",
      "metadata": {
        "id": "jsa5fUPIsHV4",
        "colab": {
          "base_uri": "https://localhost:8080/"
        },
        "outputId": "1e755f1a-d838-4afe-f184-2578d16a70a0"
      },
      "source": [
        "# Cuantos registros tenemos por valor de la columna 'Precio' sin nulos\n",
        "titanic['Precio'].value_counts().sort_values().to_dict()"
      ],
      "execution_count": 19,
      "outputs": [
        {
          "output_type": "execute_result",
          "data": {
            "text/plain": [
              "{0.0: 15,\n",
              " 4.0125: 1,\n",
              " 5.0: 1,\n",
              " 6.2375: 1,\n",
              " 6.4375: 1,\n",
              " 6.45: 1,\n",
              " 6.4958: 2,\n",
              " 6.75: 2,\n",
              " 6.8583: 1,\n",
              " 6.95: 1,\n",
              " 6.975: 2,\n",
              " 7.0458: 1,\n",
              " 7.05: 7,\n",
              " 7.0542: 2,\n",
              " 7.125: 4,\n",
              " 7.1417: 1,\n",
              " 7.225: 12,\n",
              " 7.2292: 15,\n",
              " 7.25: 13,\n",
              " 7.3125: 1,\n",
              " 7.4958: 3,\n",
              " 7.5208: 1,\n",
              " 7.55: 4,\n",
              " 7.6292: 1,\n",
              " 7.65: 4,\n",
              " 7.725: 1,\n",
              " 7.7292: 1,\n",
              " 7.7333: 4,\n",
              " 7.7375: 2,\n",
              " 7.7417: 1,\n",
              " 7.75: 34,\n",
              " 7.775: 16,\n",
              " 7.7875: 1,\n",
              " 7.7958: 6,\n",
              " 7.8: 1,\n",
              " 7.8292: 2,\n",
              " 7.8542: 13,\n",
              " 7.875: 1,\n",
              " 7.8792: 4,\n",
              " 7.8875: 1,\n",
              " 7.8958: 38,\n",
              " 7.925: 18,\n",
              " 8.0292: 1,\n",
              " 8.05: 43,\n",
              " 8.1125: 1,\n",
              " 8.1375: 1,\n",
              " 8.1583: 1,\n",
              " 8.3: 1,\n",
              " 8.3625: 1,\n",
              " 8.4042: 1,\n",
              " 8.4333: 1,\n",
              " 8.4583: 1,\n",
              " 8.5167: 1,\n",
              " 8.6542: 1,\n",
              " 8.6625: 13,\n",
              " 8.6833: 1,\n",
              " 8.7125: 1,\n",
              " 8.85: 1,\n",
              " 9.0: 2,\n",
              " 9.2167: 1,\n",
              " 9.225: 2,\n",
              " 9.35: 2,\n",
              " 9.475: 1,\n",
              " 9.4833: 1,\n",
              " 9.5: 9,\n",
              " 9.5875: 2,\n",
              " 9.825: 2,\n",
              " 9.8375: 1,\n",
              " 9.8417: 1,\n",
              " 9.8458: 1,\n",
              " 10.1708: 1,\n",
              " 10.4625: 2,\n",
              " 10.5: 24,\n",
              " 10.5167: 1,\n",
              " 11.1333: 3,\n",
              " 11.2417: 2,\n",
              " 11.5: 4,\n",
              " 12.0: 1,\n",
              " 12.275: 1,\n",
              " 12.2875: 1,\n",
              " 12.35: 3,\n",
              " 12.475: 4,\n",
              " 12.525: 1,\n",
              " 12.65: 1,\n",
              " 12.875: 1,\n",
              " 13.0: 42,\n",
              " 13.4167: 1,\n",
              " 13.5: 4,\n",
              " 13.7917: 1,\n",
              " 13.8583: 1,\n",
              " 13.8625: 1,\n",
              " 14.0: 1,\n",
              " 14.1083: 1,\n",
              " 14.4: 2,\n",
              " 14.4542: 7,\n",
              " 14.4583: 3,\n",
              " 14.5: 7,\n",
              " 15.0: 1,\n",
              " 15.0458: 1,\n",
              " 15.05: 1,\n",
              " 15.1: 1,\n",
              " 15.2458: 5,\n",
              " 15.5: 8,\n",
              " 15.55: 1,\n",
              " 15.7417: 2,\n",
              " 15.75: 1,\n",
              " 15.85: 4,\n",
              " 15.9: 2,\n",
              " 16.0: 1,\n",
              " 16.1: 9,\n",
              " 16.7: 2,\n",
              " 17.4: 1,\n",
              " 17.8: 2,\n",
              " 18.0: 3,\n",
              " 18.75: 3,\n",
              " 18.7875: 2,\n",
              " 19.2583: 4,\n",
              " 19.5: 2,\n",
              " 19.9667: 2,\n",
              " 20.2125: 2,\n",
              " 20.25: 2,\n",
              " 20.525: 3,\n",
              " 20.575: 2,\n",
              " 21.0: 6,\n",
              " 21.075: 4,\n",
              " 21.6792: 1,\n",
              " 22.025: 1,\n",
              " 22.3583: 2,\n",
              " 22.525: 1,\n",
              " 23.0: 4,\n",
              " 23.25: 2,\n",
              " 23.45: 2,\n",
              " 24.0: 2,\n",
              " 24.15: 8,\n",
              " 25.4667: 4,\n",
              " 25.5875: 1,\n",
              " 25.925: 1,\n",
              " 25.9292: 2,\n",
              " 26.0: 31,\n",
              " 26.25: 6,\n",
              " 26.2833: 1,\n",
              " 26.2875: 3,\n",
              " 26.3875: 1,\n",
              " 26.55: 15,\n",
              " 27.0: 2,\n",
              " 27.7208: 5,\n",
              " 27.75: 4,\n",
              " 27.9: 6,\n",
              " 28.5: 1,\n",
              " 28.7125: 1,\n",
              " 29.0: 2,\n",
              " 29.125: 5,\n",
              " 29.7: 3,\n",
              " 30.0: 6,\n",
              " 30.0708: 2,\n",
              " 30.5: 5,\n",
              " 30.6958: 2,\n",
              " 31.0: 3,\n",
              " 31.275: 7,\n",
              " 31.3875: 4,\n",
              " 32.3208: 1,\n",
              " 32.5: 1,\n",
              " 33.0: 3,\n",
              " 33.5: 1,\n",
              " 34.0208: 1,\n",
              " 34.375: 4,\n",
              " 34.6542: 1,\n",
              " 35.0: 1,\n",
              " 35.5: 4,\n",
              " 36.75: 2,\n",
              " 37.0042: 2,\n",
              " 38.5: 1,\n",
              " 39.0: 4,\n",
              " 39.4: 1,\n",
              " 39.6: 2,\n",
              " 39.6875: 6,\n",
              " 40.125: 1,\n",
              " 41.5792: 3,\n",
              " 42.4: 1,\n",
              " 46.9: 6,\n",
              " 47.1: 1,\n",
              " 49.5: 1,\n",
              " 49.5042: 2,\n",
              " 50.0: 1,\n",
              " 50.4958: 1,\n",
              " 51.4792: 1,\n",
              " 51.8625: 2,\n",
              " 52.0: 7,\n",
              " 52.5542: 3,\n",
              " 53.1: 5,\n",
              " 55.0: 2,\n",
              " 55.4417: 1,\n",
              " 55.9: 2,\n",
              " 56.4958: 7,\n",
              " 56.9292: 2,\n",
              " 57.0: 2,\n",
              " 57.9792: 2,\n",
              " 59.4: 1,\n",
              " 61.175: 1,\n",
              " 61.3792: 1,\n",
              " 61.9792: 1,\n",
              " 63.3583: 1,\n",
              " 65.0: 2,\n",
              " 66.6: 2,\n",
              " 69.3: 2,\n",
              " 69.55: 7,\n",
              " 71.0: 2,\n",
              " 71.2833: 1,\n",
              " 73.5: 5,\n",
              " 75.25: 1,\n",
              " 76.2917: 1,\n",
              " 76.7292: 3,\n",
              " 77.2875: 2,\n",
              " 77.9583: 3,\n",
              " 78.2667: 2,\n",
              " 78.85: 2,\n",
              " 79.2: 4,\n",
              " 79.65: 3,\n",
              " 80.0: 2,\n",
              " 81.8583: 1,\n",
              " 82.1708: 2,\n",
              " 83.1583: 3,\n",
              " 83.475: 2,\n",
              " 86.5: 3,\n",
              " 89.1042: 2,\n",
              " 90.0: 4,\n",
              " 91.0792: 2,\n",
              " 93.5: 2,\n",
              " 106.425: 2,\n",
              " 108.9: 2,\n",
              " 110.8833: 4,\n",
              " 113.275: 3,\n",
              " 120.0: 4,\n",
              " 133.65: 2,\n",
              " 134.5: 2,\n",
              " 135.6333: 3,\n",
              " 146.5208: 2,\n",
              " 151.55: 4,\n",
              " 153.4625: 3,\n",
              " 164.8667: 2,\n",
              " 211.3375: 3,\n",
              " 211.5: 1,\n",
              " 221.7792: 1,\n",
              " 227.525: 4,\n",
              " 247.5208: 2,\n",
              " 262.375: 2,\n",
              " 263.0: 4,\n",
              " 512.3292: 3}"
            ]
          },
          "metadata": {
            "tags": []
          },
          "execution_count": 19
        }
      ]
    },
    {
      "cell_type": "markdown",
      "metadata": {
        "id": "I9cozDzg4zXB"
      },
      "source": [
        "# Medidas de tendencia central\n",
        "\n",
        "\n",
        "*   Moda\n",
        "*   Media\n",
        "*   Mediana\n",
        "\n"
      ]
    },
    {
      "cell_type": "markdown",
      "metadata": {
        "id": "V06Fi8Pu5Z9z"
      },
      "source": [
        "# Medidas de dispercion\n",
        "\n",
        "\n",
        "*   Desviación estándar\n",
        "*   Varianza\n",
        "*   Rango intercuantil\n",
        "\n"
      ]
    },
    {
      "cell_type": "code",
      "metadata": {
        "id": "n7tIpvSv0IbQ",
        "colab": {
          "base_uri": "https://localhost:8080/",
          "height": 297
        },
        "outputId": "2d9744d2-d9e5-4594-ed84-b3827b695a44"
      },
      "source": [
        "# Resumen de las columnas numericas\n",
        "titanic.describe()"
      ],
      "execution_count": 20,
      "outputs": [
        {
          "output_type": "execute_result",
          "data": {
            "text/html": [
              "<div>\n",
              "<style scoped>\n",
              "    .dataframe tbody tr th:only-of-type {\n",
              "        vertical-align: middle;\n",
              "    }\n",
              "\n",
              "    .dataframe tbody tr th {\n",
              "        vertical-align: top;\n",
              "    }\n",
              "\n",
              "    .dataframe thead th {\n",
              "        text-align: right;\n",
              "    }\n",
              "</style>\n",
              "<table border=\"1\" class=\"dataframe\">\n",
              "  <thead>\n",
              "    <tr style=\"text-align: right;\">\n",
              "      <th></th>\n",
              "      <th>IdPasajero</th>\n",
              "      <th>Sobrevivio</th>\n",
              "      <th>Clase</th>\n",
              "      <th>Edad</th>\n",
              "      <th>HermEsp</th>\n",
              "      <th>PadresHijos</th>\n",
              "      <th>Precio</th>\n",
              "    </tr>\n",
              "  </thead>\n",
              "  <tbody>\n",
              "    <tr>\n",
              "      <th>count</th>\n",
              "      <td>891.000000</td>\n",
              "      <td>891.000000</td>\n",
              "      <td>891.000000</td>\n",
              "      <td>714.000000</td>\n",
              "      <td>891.000000</td>\n",
              "      <td>891.000000</td>\n",
              "      <td>891.000000</td>\n",
              "    </tr>\n",
              "    <tr>\n",
              "      <th>mean</th>\n",
              "      <td>446.000000</td>\n",
              "      <td>0.383838</td>\n",
              "      <td>2.308642</td>\n",
              "      <td>29.699118</td>\n",
              "      <td>0.523008</td>\n",
              "      <td>0.381594</td>\n",
              "      <td>32.204208</td>\n",
              "    </tr>\n",
              "    <tr>\n",
              "      <th>std</th>\n",
              "      <td>257.353842</td>\n",
              "      <td>0.486592</td>\n",
              "      <td>0.836071</td>\n",
              "      <td>14.526497</td>\n",
              "      <td>1.102743</td>\n",
              "      <td>0.806057</td>\n",
              "      <td>49.693429</td>\n",
              "    </tr>\n",
              "    <tr>\n",
              "      <th>min</th>\n",
              "      <td>1.000000</td>\n",
              "      <td>0.000000</td>\n",
              "      <td>1.000000</td>\n",
              "      <td>0.420000</td>\n",
              "      <td>0.000000</td>\n",
              "      <td>0.000000</td>\n",
              "      <td>0.000000</td>\n",
              "    </tr>\n",
              "    <tr>\n",
              "      <th>25%</th>\n",
              "      <td>223.500000</td>\n",
              "      <td>0.000000</td>\n",
              "      <td>2.000000</td>\n",
              "      <td>20.125000</td>\n",
              "      <td>0.000000</td>\n",
              "      <td>0.000000</td>\n",
              "      <td>7.910400</td>\n",
              "    </tr>\n",
              "    <tr>\n",
              "      <th>50%</th>\n",
              "      <td>446.000000</td>\n",
              "      <td>0.000000</td>\n",
              "      <td>3.000000</td>\n",
              "      <td>28.000000</td>\n",
              "      <td>0.000000</td>\n",
              "      <td>0.000000</td>\n",
              "      <td>14.454200</td>\n",
              "    </tr>\n",
              "    <tr>\n",
              "      <th>75%</th>\n",
              "      <td>668.500000</td>\n",
              "      <td>1.000000</td>\n",
              "      <td>3.000000</td>\n",
              "      <td>38.000000</td>\n",
              "      <td>1.000000</td>\n",
              "      <td>0.000000</td>\n",
              "      <td>31.000000</td>\n",
              "    </tr>\n",
              "    <tr>\n",
              "      <th>max</th>\n",
              "      <td>891.000000</td>\n",
              "      <td>1.000000</td>\n",
              "      <td>3.000000</td>\n",
              "      <td>80.000000</td>\n",
              "      <td>8.000000</td>\n",
              "      <td>6.000000</td>\n",
              "      <td>512.329200</td>\n",
              "    </tr>\n",
              "  </tbody>\n",
              "</table>\n",
              "</div>"
            ],
            "text/plain": [
              "       IdPasajero  Sobrevivio       Clase  ...     HermEsp  PadresHijos      Precio\n",
              "count  891.000000  891.000000  891.000000  ...  891.000000   891.000000  891.000000\n",
              "mean   446.000000    0.383838    2.308642  ...    0.523008     0.381594   32.204208\n",
              "std    257.353842    0.486592    0.836071  ...    1.102743     0.806057   49.693429\n",
              "min      1.000000    0.000000    1.000000  ...    0.000000     0.000000    0.000000\n",
              "25%    223.500000    0.000000    2.000000  ...    0.000000     0.000000    7.910400\n",
              "50%    446.000000    0.000000    3.000000  ...    0.000000     0.000000   14.454200\n",
              "75%    668.500000    1.000000    3.000000  ...    1.000000     0.000000   31.000000\n",
              "max    891.000000    1.000000    3.000000  ...    8.000000     6.000000  512.329200\n",
              "\n",
              "[8 rows x 7 columns]"
            ]
          },
          "metadata": {
            "tags": []
          },
          "execution_count": 20
        }
      ]
    },
    {
      "cell_type": "code",
      "metadata": {
        "colab": {
          "base_uri": "https://localhost:8080/"
        },
        "id": "s1ie0hpCWw5W",
        "outputId": "3fa199a6-3f55-4bf5-b3f1-ecbbae71ff1d"
      },
      "source": [
        "print('media de edad'+' ' +str(np.mean(titanic['Edad'])))\n",
        "print('mediana de edad'+' ' +str(titanic['Edad'].median()))\n",
        "print('moda de edad'+' ' +str(stats.mode(titanic['Edad'])[0]))\n",
        "\n",
        "print('media de precio'+' ' +str(np.mean(titanic['Precio'])))\n",
        "print('mediana de precio'+' ' +str(titanic['Precio'].median()))\n",
        "print('moda de precio'+' ' +str(stats.mode(titanic['Precio'])[0]))\n",
        "\n"
      ],
      "execution_count": 21,
      "outputs": [
        {
          "output_type": "stream",
          "text": [
            "media de edad 29.69911764705882\n",
            "mediana de edad 28.0\n",
            "moda de edad [24.]\n",
            "media de precio 32.2042079685746\n",
            "mediana de precio 14.4542\n",
            "moda de precio [8.05]\n"
          ],
          "name": "stdout"
        }
      ]
    },
    {
      "cell_type": "code",
      "metadata": {
        "id": "24B1_V9zQVi-",
        "colab": {
          "base_uri": "https://localhost:8080/"
        },
        "outputId": "419cc42c-33c4-4de1-835f-a34dbf2ff69b"
      },
      "source": [
        "# Rango Intercuartil con stats\n",
        "IQR_stats = stats.iqr(titanic['Edad'].value_counts().index.to_list(), interpolation = 'midpoint')\n",
        "\n",
        "\n",
        "# First quartile (Q1)\n",
        "Q1 = np.percentile(titanic['Edad'].value_counts().index.to_list(), 25, interpolation = 'midpoint')\n",
        "  \n",
        "# Third quartile (Q3)\n",
        "Q3 = np.percentile(titanic['Edad'].value_counts().index.to_list(), 75, interpolation = 'midpoint')\n",
        "  \n",
        "# Interquaritle range (IQR)\n",
        "IQR_np = Q3 - Q1\n",
        "print(\"IQR Edad con stats\"+\" \"+ str(IQR_stats))\n",
        "print(\"IQR Edad con numpy\"+\" \"+ str(IQR_np))"
      ],
      "execution_count": 22,
      "outputs": [
        {
          "output_type": "stream",
          "text": [
            "IQR Edad con stats 34.0\n",
            "IQR Edad con numpy 34.0\n"
          ],
          "name": "stdout"
        }
      ]
    },
    {
      "cell_type": "code",
      "metadata": {
        "id": "AhyqzupWazSK"
      },
      "source": [
        "# ¿Qué pasa si agregamos otro registro?\n",
        "\n",
        "nueva_fila ={'IdPasajero':[892],'Sobrevivio':[1],'Clase':[1],'Nombre':['Wadr.MissAnne'],\\\n",
        "             'Genero':['female'],'Edad':[35],'HermEsp':[0],'PadresHijos':[0],'Tiquete':['PC17755'],\\\n",
        "             'Precio':[5123292000],'Cabina':['A20'],'Embarque':['C']}\n",
        "df2 = pd.DataFrame.from_dict(nueva_fila)\n",
        "new_df = titanic.append(df2,ignore_index=True)\n",
        "\n"
      ],
      "execution_count": 23,
      "outputs": []
    },
    {
      "cell_type": "code",
      "metadata": {
        "id": "D4_EYdqri9Ff",
        "colab": {
          "base_uri": "https://localhost:8080/"
        },
        "outputId": "66893ea2-d405-4e5f-f386-ae4a3f161889"
      },
      "source": [
        "\n",
        "print('nueva media de Precio'+' ' +str(round(np.mean(new_df['Precio']),4)))\n",
        "print('nueva mediana de Precio'+' ' +str(round(np.median(new_df['Precio']),4)))\n"
      ],
      "execution_count": 24,
      "outputs": [
        {
          "output_type": "stream",
          "text": [
            "nueva media de Precio 5743633.065\n",
            "nueva mediana de Precio 14.4542\n"
          ],
          "name": "stdout"
        }
      ]
    },
    {
      "cell_type": "markdown",
      "metadata": {
        "id": "9seAiDd68NTQ"
      },
      "source": [
        "# Gráficos"
      ]
    },
    {
      "cell_type": "markdown",
      "metadata": {
        "id": "pdvH2yE_lab4"
      },
      "source": [
        " **Variables Categóricas** "
      ]
    },
    {
      "cell_type": "code",
      "metadata": {
        "colab": {
          "base_uri": "https://localhost:8080/",
          "height": 350
        },
        "id": "TRyLZWZKO4Va",
        "outputId": "8aeaeeb3-82b7-4c63-c48b-edfc8e3c4719"
      },
      "source": [
        "figure,axis = plt.subplots(1,2,figsize=(15,5))\n",
        "titanic.Genero.value_counts().plot(kind = 'pie', autopct='%1.1f%%',shadow=False, \\\n",
        "                                ax=axis[0], legend = False, fontsize=11, \\\n",
        "                                colors = ['c', 'g'],explode=[0.1,0])\n",
        "axis[0].set_title('Distribución de pasajeros por Genero')\n",
        "sns.countplot('Clase',data=titanic,ax=axis[1])\n",
        "axis[1].set_title('Pasajeros por Clase')\n",
        "plt.show()"
      ],
      "execution_count": 25,
      "outputs": [
        {
          "output_type": "display_data",
          "data": {
            "image/png": "[encoded data removed]",
            "text/plain": [
              "<Figure size 1080x360 with 2 Axes>"
            ]
          },
          "metadata": {
            "tags": [],
            "needs_background": "light"
          }
        }
      ]
    },
    {
      "cell_type": "code",
      "metadata": {
        "id": "y_hCUAJ9mTWN",
        "colab": {
          "base_uri": "https://localhost:8080/",
          "height": 319
        },
        "outputId": "456a3527-e706-4328-cd85-9121949af96f"
      },
      "source": [
        "figure,axis = plt.subplots(1,2,figsize=(15,5))\n",
        "titanic.Clase.value_counts().plot.pie(autopct='%1.1f%%',shadow=False, \\\n",
        "                                ax=axis[0], legend = False, fontsize=11, \\\n",
        "                                colors = ['c', 'g','y'])\n",
        "axis[0].set_title('Distribución de pasajeros por Clase')\n",
        "titanic.Sobrevivio.value_counts().plot.pie(autopct='%1.1f%%',shadow=False, \\\n",
        "                                ax=axis[1], legend = False, fontsize=11)\n",
        "axis[1].set_title('Porcentaje de personas fallecidas y sobrevivientes')\n",
        "plt.show()"
      ],
      "execution_count": 26,
      "outputs": [
        {
          "output_type": "display_data",
          "data": {
            "image/png": "[encoded data removed]",
            "text/plain": [
              "<Figure size 1080x360 with 2 Axes>"
            ]
          },
          "metadata": {
            "tags": []
          }
        }
      ]
    },
    {
      "cell_type": "markdown",
      "metadata": {
        "id": "qp9T0reIqtS-"
      },
      "source": [
        " **Variables Numéricas Continuas** "
      ]
    },
    {
      "cell_type": "code",
      "metadata": {
        "id": "FcjkiShH-Cwo",
        "colab": {
          "base_uri": "https://localhost:8080/",
          "height": 295
        },
        "outputId": "a4cfee33-e636-435a-d412-964a6a94e8d4"
      },
      "source": [
        "ax = sns.boxplot(x=\"Edad\",data=titanic, palette=\"Set3\").set_title('Diagrama de caja variable Edad')"
      ],
      "execution_count": 27,
      "outputs": [
        {
          "output_type": "display_data",
          "data": {
            "image/png": "[encoded data removed]",
            "text/plain": [
              "<Figure size 432x288 with 1 Axes>"
            ]
          },
          "metadata": {
            "tags": [],
            "needs_background": "light"
          }
        }
      ]
    },
    {
      "cell_type": "code",
      "metadata": {
        "id": "07wd3azwDiUi",
        "colab": {
          "base_uri": "https://localhost:8080/",
          "height": 312
        },
        "outputId": "8dbe2a0c-a93e-47ef-fd5a-49a6b94a3bf2"
      },
      "source": [
        "sns.distplot(titanic['Edad']).set_title('Distribución variable Edad')\n"
      ],
      "execution_count": 28,
      "outputs": [
        {
          "output_type": "execute_result",
          "data": {
            "text/plain": [
              "Text(0.5, 1.0, 'Distribución variable Edad')"
            ]
          },
          "metadata": {
            "tags": []
          },
          "execution_count": 28
        },
        {
          "output_type": "display_data",
          "data": {
            "image/png": "[encoded data removed]",
            "text/plain": [
              "<Figure size 432x288 with 1 Axes>"
            ]
          },
          "metadata": {
            "tags": [],
            "needs_background": "light"
          }
        }
      ]
    },
    {
      "cell_type": "code",
      "metadata": {
        "id": "cLJJzCmkAxJF",
        "colab": {
          "base_uri": "https://localhost:8080/",
          "height": 295
        },
        "outputId": "306590c3-ac7d-42cb-c10c-98f148985601"
      },
      "source": [
        "ax = sns.boxplot(x=\"Precio\",data=titanic, palette=\"Set3\").set_title('Diagrama de caja variable Precio')"
      ],
      "execution_count": 29,
      "outputs": [
        {
          "output_type": "display_data",
          "data": {
            "image/png": "[encoded data removed]",
            "text/plain": [
              "<Figure size 432x288 with 1 Axes>"
            ]
          },
          "metadata": {
            "tags": [],
            "needs_background": "light"
          }
        }
      ]
    },
    {
      "cell_type": "code",
      "metadata": {
        "id": "X5S_DkhV7L0Z",
        "colab": {
          "base_uri": "https://localhost:8080/",
          "height": 312
        },
        "outputId": "1e45c4e8-7c1f-4f59-e77e-2fcb68a2abfa"
      },
      "source": [
        "sns.distplot(titanic['Precio']).set_title('Distribución variable Precio')"
      ],
      "execution_count": 30,
      "outputs": [
        {
          "output_type": "execute_result",
          "data": {
            "text/plain": [
              "Text(0.5, 1.0, 'Distribución variable Precio')"
            ]
          },
          "metadata": {
            "tags": []
          },
          "execution_count": 30
        },
        {
          "output_type": "display_data",
          "data": {
            "image/png": "[encoded data removed]",
            "text/plain": [
              "<Figure size 432x288 with 1 Axes>"
            ]
          },
          "metadata": {
            "tags": [],
            "needs_background": "light"
          }
        }
      ]
    },
    {
      "cell_type": "markdown",
      "metadata": {
        "id": "Yk6khrOOsq06"
      },
      "source": [
        "**¿Cómo cambian las gráficas con el nuevo registro que agregamos?**"
      ]
    },
    {
      "cell_type": "code",
      "metadata": {
        "id": "o7PEUqE1tW_A",
        "colab": {
          "base_uri": "https://localhost:8080/",
          "height": 295
        },
        "outputId": "22ee9c43-476b-42f8-952f-165104b493a8"
      },
      "source": [
        "ax = sns.boxplot(x=\"Precio\",data=new_df,palette=\"Set3\").set_title('nuevo diagrama de caja variable precio')"
      ],
      "execution_count": 31,
      "outputs": [
        {
          "output_type": "display_data",
          "data": {
            "image/png": "[encoded data removed]",
            "text/plain": [
              "<Figure size 432x288 with 1 Axes>"
            ]
          },
          "metadata": {
            "tags": [],
            "needs_background": "light"
          }
        }
      ]
    },
    {
      "cell_type": "code",
      "metadata": {
        "id": "JLCEtE6vvwGL",
        "colab": {
          "base_uri": "https://localhost:8080/",
          "height": 312
        },
        "outputId": "205a79b2-e845-416e-9b79-f9e74b00b7da"
      },
      "source": [
        "sns.distplot(new_df['Precio']).set_title('Nueva Distribución variable Precio')"
      ],
      "execution_count": 32,
      "outputs": [
        {
          "output_type": "execute_result",
          "data": {
            "text/plain": [
              "Text(0.5, 1.0, 'Nueva Distribución variable Precio')"
            ]
          },
          "metadata": {
            "tags": []
          },
          "execution_count": 32
        },
        {
          "output_type": "display_data",
          "data": {
            "image/png": "[encoded data removed]",
            "text/plain": [
              "<Figure size 432x288 with 1 Axes>"
            ]
          },
          "metadata": {
            "tags": [],
            "needs_background": "light"
          }
        }
      ]
    },
    {
      "cell_type": "markdown",
      "metadata": {
        "id": "VL0NKJ6PrAXM"
      },
      "source": [
        " **Variables Numericas discretas** "
      ]
    },
    {
      "cell_type": "code",
      "metadata": {
        "colab": {
          "base_uri": "https://localhost:8080/",
          "height": 446
        },
        "id": "juoca2l2_6ke",
        "outputId": "cc504f4e-9481-4e4d-8cf5-e2e9cf36a679"
      },
      "source": [
        "(figure, axis) = plt.subplots(nrows=1 , ncols=2, figsize=(15,7))\n",
        "ax = axis.flat\n",
        "discretas = ['HermEsp','PadresHijos']\n",
        "\n",
        "sns.set_style(\"darkgrid\")\n",
        "for i in range(len(discretas)):\n",
        "    sns.countplot(x = discretas[i],data=titanic,ax= ax[i],palette=\"Set2\")\n",
        "    ax[i].set_title('Frecuencia variable '+ discretas[i], fontsize = 16)\n",
        "    ax[i].set_ylabel('')\n",
        "    ax[i].set_xlabel('');\n"
      ],
      "execution_count": 33,
      "outputs": [
        {
          "output_type": "display_data",
          "data": {
            "image/png": "[encoded data removed]",
            "text/plain": [
              "<Figure size 1080x504 with 2 Axes>"
            ]
          },
          "metadata": {
            "tags": [],
            "needs_background": "light"
          }
        }
      ]
    },
    {
      "cell_type": "markdown",
      "metadata": {
        "id": "o1Xiomz97hrp"
      },
      "source": [
        "# RETO DEL MES\n",
        "¿cuál es la tasa de supervivencia por género,clase y embarque? Acompaña tu respuesta de una gráfica"
      ]
    }
  ]
}